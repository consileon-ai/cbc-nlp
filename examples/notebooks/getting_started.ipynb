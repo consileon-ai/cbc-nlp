{
 "cells": [
  {
   "cell_type": "markdown",
   "metadata": {
    "pycharm": {
     "name": "#%% md\n"
    }
   },
   "source": [
    "# Tutorial: Create your own NLP Pipeline"
   ]
  },
  {
   "cell_type": "markdown",
   "metadata": {},
   "source": [
    "For the following tutorial, the file ``dewiki_simple_one_line.txt`` (see folder: [../sample_data/](../sample_data) ) will be used as a source for input text data. This file contains one text per line and is generated via Consileon NLP Framework (the code is provided in python notebook convert_wiki_simple.ipynb). Each text is extracted from a German Wikipedia article and line breaks are eliminated such that texts are represented as one-line-texts or \"Whole sentences\". This allows for an easier access to textual data. Other than that the texts are not processed any further to show some real NLP-tasks.  \n",
    "\n",
    "(See [./convert_wiki_simple.ipynb](convert_wiki_simple.ipynb) for details.)"
   ]
  },
  {
   "cell_type": "markdown",
   "metadata": {
    "pycharm": {
     "name": "#%% md\n"
    }
   },
   "source": [
    "Now let's get started! First we will import necessary packages:"
   ]
  },
  {
   "cell_type": "code",
   "execution_count": 25,
   "metadata": {
    "pycharm": {
     "name": "#%%\n"
    }
   },
   "outputs": [],
   "source": [
    "import consileon.nlp.pipeline as nlp"
   ]
  },
  {
   "cell_type": "markdown",
   "metadata": {
    "pycharm": {
     "name": "#%% md\n"
    }
   },
   "source": [
    "### Generation of an Input stream: \n",
    "Here we create an _input stream_ **`s`**. An input stream is an _Iterator_ that will provide a _text items_ in each iteration.\n",
    "\n",
    "These text items are later \"piped\" into further processing steps."
   ]
  },
  {
   "cell_type": "code",
   "execution_count": 8,
   "metadata": {
    "pycharm": {
     "name": "#%%\n"
    }
   },
   "outputs": [],
   "source": [
    "s = nlp.LineSourceIterator(\"../sample_data/dewiki_simple_one_line.txt\")"
   ]
  },
  {
   "cell_type": "markdown",
   "metadata": {
    "pycharm": {
     "name": "#%% md\n"
    }
   },
   "source": [
    "Get the first text provided by the input stream using the function **`next()`**.\n",
    "\n",
    "Notice that each time this function is called the _next text_ item in the sequence will be given as an output:\n",
    "\n",
    "Try out by running the cell several times."
   ]
  },
  {
   "cell_type": "code",
   "execution_count": 29,
   "metadata": {
    "pycharm": {
     "name": "#%%\n"
    }
   },
   "outputs": [
    {
     "name": "stdout",
     "output_type": "stream",
     "text": [
      "Ang Lee wurde 1954 in Taiwan geboren. Seine Eltern, Emigranten aus China, lernten sich in Taiwan kennen, Lee ist ihr ältester Sohn. Die Großeltern väterlicher- und mütterlicherseits sind im Zuge der kommunistischen Revolution in China ums Leben gekommen. Da sein Vater als Lehrer häufiger die Arbeitsstelle wechselte, wuchs Ang Lee in verschiedenen Städten Taiwans auf. Entgegen den Wünschen seiner Eltern, wie sein Vater eine klassische akademische Laufbahn einzuschlagen, interessierte sich Lee für das Schauspiel und absolvierte mit ihrem Einverständnis zunächst ein Theater- und Filmstudium in Taipeh. Im Anschluss daran ging er 1978 in die USA, um an der Universität von Illinois in Urbana-Champaign Theaterwissenschaft und -regie zu studieren. Nach dem Erwerb seines B.A. in Illinois verlegte er sich ganz auf das Studium der Film- und Theaterproduktion an der Universität von New York, das er 1985 mit einem Master abschloss. Danach entschloss er sich, mit seiner ebenfalls aus Taiwan stammenden Ehefrau zusammen in den USA zu bleiben. Sein Interesse verschob sich trotz erster Erfahrungen mit dem Super-8-Film in Taiwan erst spät ganz auf Filmregie und -produktion – auch weil Lee seinen Berufswunsch seiner Familie und insbesondere seinem Vater gegenüber lange Zeit nicht eingestehen wollte. Nach dem Studium konnte er zunächst keine eigenen Projekte umsetzen. Erst ab 1992, als er seinen ersten Langfilm fertigstellte, zeichnete sich eine kontinuierliche Karriere als Regisseur ab. Als seine bisher größte Erfolge – sowohl beim Publikum als auch bei der Kritik – gelten das Martial Arts-Drama ''Tiger and Dragon'' mit einer pan-asiatischen Starbesetzung und der Post-Western-Liebesfilm ''Brokeback Mountain'' mit Heath Ledger und Jake Gyllenhaal. Für Letzteren bekam Lee 2006 als erster asiatisch-stämmiger und nicht-weißer Regisseur den Oscar für die beste Regie. Außerdem wurden Lees Filme, neben vielen weiteren Preisen, mit mittlerweile zwei Goldenen Bären der Berlinale und zwei Goldenen Löwen der Filmfestspiele von Venedig ausgezeichnet. Lee ist seit 1983 mit der Mikrobiologin Jane Lin verheiratet. Sie leben in White Plains, Westchester County, im Bundesstaat New York. Aus der Ehe stammen die Söhne Haan (* 1984) und Mason (* 1990).  Ang Lee besitzt die US-amerikanische Staatsbürgerschaft. Nach seinen ersten Filmerfahrungen in Taiwan setzte sich Lee erst wieder während seines Studiums in den USA ernsthaft mit dem Filmemachen auseinander. Im Rahmen seines Studiums in New York drehte er einige Kurzfilme und wirkte unter anderem beim Abschlussdreh seines Studienkollegen Spike Lee als Regieassistent mit. Sein eigener Abschlussfilm ''Fine Line'' gewann 1985 zwei Preise beim renommierten Filmfest seiner Universität. Erst 1992 gelang es ihm, nach dem Gewinn eines hochdotierten Drehbuchwettbewerbs in Taiwan, den ersten einer Reihe von drei Filmen zu drehen, die west-östliche Konflikte taiwanischer Familien zum Thema haben. Diese ersten drei Langfilme, die Lee realisieren konnte, werden im Allgemeinen unter dem Begriff ''Father Knows Best'' gefasst. Diese Bezeichnung geht auf die wiederkehrende Figur des chinesischen Familienoberhaupts, gespielt jeweils vom taiwanischen Schauspieler Sihung Lung, zurück. Die drei Filme thematisieren, wie später noch öfter bei Ang Lee, familiäre Probleme, die aus dem Konflikt zwischen Selbstbestimmung und Tradition, zwischen Innen und Außen, zwischen Ost und West sowie zwischen den Generationen herrühren. Die Filme sind allesamt US-amerikanisch-taiwanische Koproduktionen. Anders als bei allen bislang folgenden Projekten handelt es sich bei den ersten Filmen Lees nicht um Adaptionen, sondern um Filme nach von ihm selbst geschriebenen Originaldrehbüchern. Der erste Film, ''Schiebende Hände'' (1992), handelt vom Einzug eines chinesischen Vaters bei seinem erwachsenen Sohn und der US-amerikanischen Schwiegertochter in New York und den interkulturellen Problemen, die in der neuen Wohngemeinschaft entstehen. Dies war die erste Zusammenarbeit zwischen Lee und dem Drehbuchautor und Produzenten James Schamus – seitdem bildeten die beiden bei jedem Film Lees eine enge Arbeitsgemeinschaft. Wie in den beiden folgenden Filmen schrieben sie auch gemeinsam das Drehbuch. In allen weiteren Filmen Lees (mit Ausnahme des Kurzfilms ''The Hire: Chosen'') hat Schamus seither entscheidende Funktionen ausgeübt. Auch die regelmäßige Zusammenarbeit mit dem Filmeditor Tim Squyres nahm in Lees Erstling ihren Anfang. Mit Ausnahme des Erfolgsfilms ''Brokeback Mountain'' von 2005 hat Squires jeden Film, den Ang Lee gedreht hat, geschnitten. Nach dem Erfolg seines Erstlings konnte Lee als Nächstes ''Das Hochzeitsbankett'' (1993) drehen, eine Komödie über die fingierte Eheschließung eines homosexuellen Exil-Taiwaners in den USA. Erneut taucht hier die Figur des strengen, aber weisen Familienoberhaupts auf. Hatte ''Schiebende Hände'' zunächst vor allem in Taiwan für Aufmerksamkeit (und Preise) gesorgt, wurde mit dem zweiten Langfilm Lees auch Europa auf den aufstrebenden Regisseur aufmerksam: Der Film erhielt bei der Berlinale 1993 den ''Goldenen Bären'' als ''Bester fremdsprachiger Film'' und war zudem für einen Oscar nominiert. Er gilt darüber hinaus als einer der profitabelsten Low-Budget-Filme des Jahres 1993. Mit nur einer Million US-Dollar Produktionskosten erzielte er ein Einspielergebnis von über 23 Millionen US-Dollar. Sihung Lung ist auch im letzten Teil der Trilogie, ''Eat Drink Man Woman'' (1994), die „kongeniale Verkörperung des chinesischen Familienoberhaupts“, das „Zentrum dieser Maskeraden, in denen es darum geht, ein altes Gesicht zu wahren und dann zu lernen, es zu verlieren, um ein neues, lebenstauglicheres zu gewinnen.“ Dieses Mal ist er der verwitwete Vater dreier Töchter, die ihr Leben und ihre Lieben auf unterschiedliche Art angehen und dabei ebenfalls innerfamiliäre Konflikte klären müssen. ''Eat Drink Man Woman'' wurde, anders als seine Vorgänger, in Taipeh gedreht. Im Mittelpunkt des Films stehen (der Titel deutet es an) die Liebe und das Essen. Ang Lee, privat ein passionierter Koch, legte hierbei besonders großen Wert auf die kulinarische Komponente als Stilmittel und konzipierte die Hauptfigur des älteren Witwers als berühmten Koch. Mit dem Angebot der Produzentin Lindsay Doran, die von der britischen Schauspielerin Emma Thompson verfasste Adaption des Romans ''Verstand und Gefühl'' von Jane Austen in Großbritannien zu drehen, eröffnete sich Lee eine lange ersehnte neue Perspektive jenseits asiatisch geprägter Stoffe. In einer neuen Trilogie setzt er sich mit unterschiedlichen Kulturen auseinander: Für ''Brokeback Mountain'' wurde Lee mit einer Vielzahl von Filmpreisen geehrt, darunter der Oscar für die beste Regie, der Goldene Löwe der Filmfestspiele von Venedig sowie die Auszeichnung der Hollywood Foreign Press Association als bester Regisseur des Jahres. 2007 verfilmte er mit ''Gefahr und Begierde'' eine Kurzgeschichte von Eileen Chang. Der Thriller spielt zur Zeit des Zweiten Weltkriegs in Shanghai und handelt von einer jungen chinesischen Agentin (gespielt von Tang Wei), die beauftragt wird, einen hochrangigen Verräter (Tony Leung Chiu Wai) zu liquidieren. Lees erste chinesischsprachige Spielfilmproduktion seit ''Tiger and Dragon'' war 2007 im offiziellen Wettbewerb der 64. Filmfestspiele von Venedig vertreten und brachte ihm erneut den Goldenen Löwen ein. Im selben Jahr wurde ''Gefahr und Begierde'' als offizieller taiwanischer Beitrag für die Nominierung um den besten fremdsprachigen Film bei der Oscar-Verleihung 2008 ausgewählt, später aber auf Empfehlung der Academy of Motion Picture Arts and Sciences wieder zurückgezogen und durch Chen Huai-Ens ''Lian xi qu'' ersetzt. Ende Februar 2009 wurde bekannt gegeben, dass Lee die Jury der 66. Filmfestspiele von Venedig leiten werde. Zwei Monate später erhielt er für seine Komödie ''Taking Woodstock'' eine Einladung in den Wettbewerb der 62. Internationalen Filmfestspiele von Cannes. 2013 wurde er in die Wettbewerbsjury des 66. Filmfestivals von Cannes berufen. Ang Lee ist ein international anerkannter und erfolgreicher Regisseur und gilt als einer der vielseitigsten Filmemacher der letzten Jahre. Häufig behandelt Lee in seinen Filmen das Thema Familie auf eine Art und Weise, die autobiographische Züge seines eigenen Lebens trägt. Er lässt seine Umgebung ganz bewusst auf sich einwirken und bringt diese in seine Filme ein. Kennzeichnend für die meisten seiner Filme ist eine wenig geradlinige Erzählstruktur, die die Charaktere und die Geschichte aus verschiedenen Blickwinkeln darstellt. Er verknüpft die Konflikte des menschlichen Lebens mit traditionellen und innovativen Stilelementen. Für Ang Lee sind die klassisch-soliden Erzählstrukturen zu langweilig, daher kombiniert er verschiedene Genres und Epochen. Er selbst sagte einmal:\n",
      "\n"
     ]
    }
   ],
   "source": [
    "text = next(s)\n",
    "print(text)"
   ]
  },
  {
   "cell_type": "markdown",
   "metadata": {
    "pycharm": {
     "name": "#%% md\n"
    }
   },
   "source": [
    "### Tokenization, Lemmatization and Lower-casing:"
   ]
  },
  {
   "cell_type": "markdown",
   "metadata": {},
   "source": [
    "In order for NLP-algorithms to process textual data, text elements need to be represented as tokens. This pre-processing step is called tokenization. <br> In the following code we create a tokenizer **`t`** with the help of the function **`TokenizeText()`** and apply it on a string example **`sample_text`** to see what this pre-processing step is all about:"
   ]
  },
  {
   "cell_type": "code",
   "execution_count": 10,
   "metadata": {},
   "outputs": [
    {
     "name": "stdout",
     "output_type": "stream",
     "text": [
      "['Der', 'Frühling', 'läßt', 'sein', 'blaues', 'Band', 'wieder', 'flattern', 'durch', 'die', 'Lüfte.', 'Süße', ',', 'wohlbekannte', 'Düfte', 'streifen', 'ahnungsvoll', 'das', 'Land', '.']\n"
     ]
    }
   ],
   "source": [
    "t = nlp.TokenizeText()\n",
    "sample_text = \"Der Frühling läßt sein blaues Band wieder flattern durch die Lüfte. Süße, wohlbekannte Düfte streifen ahnungsvoll das Land.\"\n",
    "\n",
    "print( t(sample_text) )"
   ]
  },
  {
   "cell_type": "markdown",
   "metadata": {},
   "source": [
    "Notice that each interpunctation character (as a text element) leads to a single token.\n",
    "\n",
    "In languages that freuently use conjugation and declination (e.g. German) it's often necessary to reduce the number of different tokens via lemmatization. Lemmatization reduces words to their basic/dictionary form, e.g. \"Lüfte\" to \"Luft\" or \"writen\" to \"write\".\n",
    "\n",
    "In comparison with Tokenization, lemmatization depends on the natural language. For Consileon the default language (currently) is German."
   ]
  },
  {
   "cell_type": "markdown",
   "metadata": {},
   "source": [
    "To apply tokenization and lemmatization at once we use the function **`LemmaTokenizeText()`**:"
   ]
  },
  {
   "cell_type": "code",
   "execution_count": 12,
   "metadata": {},
   "outputs": [
    {
     "name": "stdout",
     "output_type": "stream",
     "text": [
      "['der', 'Frühling', 'lassen', 'mein', 'blau', 'Band', 'wieder', 'flattern', 'durch', 'der', 'Luft', '.', 'süßen', ',', 'wohlbekannte', 'Duft', 'streifen', 'ahnungsvoll', 'der', 'Land', '.']\n"
     ]
    }
   ],
   "source": [
    "l = nlp.LemmaTokenizeText()\n",
    "\n",
    "print( l(sample_text) )"
   ]
  },
  {
   "cell_type": "markdown",
   "metadata": {},
   "source": [
    "As seen above, lemmatization is not perfect, esp. not context sensitive.\n",
    "<br>\n",
    "Tokenizers and lemmatizers are examples of modifiers. Modifiers take one input object and transform it into an output object that may differ in its type from the former. In the case seen above, the input object is of type string and the output object if of type list."
   ]
  },
  {
   "cell_type": "markdown",
   "metadata": {
    "pycharm": {
     "name": "#%% md\n"
    }
   },
   "source": [
    "Another modifier is **`Lower()`** which transforms the tokens within a list to lower case:"
   ]
  },
  {
   "cell_type": "code",
   "execution_count": 13,
   "metadata": {
    "pycharm": {
     "name": "#%%\n"
    }
   },
   "outputs": [
    {
     "data": {
      "text/plain": [
       "['hallo welt']"
      ]
     },
     "execution_count": 13,
     "metadata": {},
     "output_type": "execute_result"
    }
   ],
   "source": [
    "lc = nlp.Lower()\n",
    "\n",
    "lc([\"Hallo Welt\"])"
   ]
  },
  {
   "cell_type": "markdown",
   "metadata": {
    "pycharm": {
     "name": "#%% md\n"
    }
   },
   "source": [
    "### Composition of multiple modifiers via the operator * :"
   ]
  },
  {
   "cell_type": "markdown",
   "metadata": {
    "pycharm": {
     "name": "#%% md\n"
    }
   },
   "source": [
    "Modifiers can be composed (as in mathematics) using the operator `*` . In the following code, the tokenizer **`t`** and the modifier **`lc`** are composed and applied to the string **`sample_text`** :"
   ]
  },
  {
   "cell_type": "code",
   "execution_count": 15,
   "metadata": {
    "pycharm": {
     "name": "#%%\n"
    }
   },
   "outputs": [
    {
     "name": "stdout",
     "output_type": "stream",
     "text": [
      "['der', 'frühling', 'läßt', 'sein', 'blaues', 'band', 'wieder', 'flattern', 'durch', 'die', 'lüfte.', 'süße', ',', 'wohlbekannte', 'düfte', 'streifen', 'ahnungsvoll', 'das', 'land', '.'] ['der', 'frühling', 'läßt', 'sein', 'blaues', 'band', 'wieder', 'flattern', 'durch', 'die', 'lüfte.', 'süße', ',', 'wohlbekannte', 'düfte', 'streifen', 'ahnungsvoll', 'das', 'land', '.'] ['der', 'ball', 'sein', 'rund', '.']\n"
     ]
    }
   ],
   "source": [
    "m1 = lc * t\n",
    "print( m1(sample_text), (lc * t)(sample_text), (lc * nlp.LemmaTokenizeText())(\"Der Ball ist rund.\") )"
   ]
  },
  {
   "cell_type": "markdown",
   "metadata": {
    "pycharm": {
     "name": "#%% md\n"
    }
   },
   "source": [
    "One very important feature of modifiers is that they can easily be applied element wise to an input stream. In that way, you are able to create a textual-preprocessing pipeline in which you insert the input texts iteratively. This is done using the operator `**` . Now Let's see how the modifier-composition **`m1`** will handle the input stream **`s`**:"
   ]
  },
  {
   "cell_type": "code",
   "execution_count": 18,
   "metadata": {},
   "outputs": [
    {
     "name": "stdout",
     "output_type": "stream",
     "text": [
      "['alternative', 'schreibweisen', 'sind', 'unter', 'anderem', 'die', 'ursprungsvariante', '``', 'allen', 'smithee', \"''\", 'sowie', '``', 'alan', 'smythee', \"''\", 'und', '``', 'adam', 'smithee', \"''\", '.', 'auch', 'zwei', 'teilweise', 'asiatisch', 'anmutende', 'schreibweisen', '``', 'alan', 'smi', 'thee', \"''\", 'und', '``', 'sumishii', 'aran', \"''\", 'gehören', '–', 'so', 'die', 'internet', 'movie', 'database', '–', 'dazu.', 'das', 'pseudonym', 'entstand', '1968', 'infolge', 'der', 'arbeiten', 'am', 'western-film', '``', 'death', 'of', 'a', 'gunfighter', \"''\", 'deutscher', 'titel', '``', 'frank', 'patch', '–', 'deine', 'stunden', 'sind', 'gezählt', \"''\", '.', 'regisseur', 'robert', 'totten', 'und', 'hauptdarsteller', 'richard', 'widmark', 'gerieten', 'in', 'einen', 'streit', ',', 'woraufhin', 'don', 'siegel', 'als', 'neuer', 'regisseur', 'eingesetzt', 'wurde.', 'der', 'film', 'trug', 'nach', 'abschluss', 'der', 'arbeiten', 'noch', 'deutlich', 'tottens', 'handschrift', ',', 'der', 'auch', 'mehr', 'drehtage', 'als', 'siegel', 'daran', 'gearbeitet', 'hatte', ',', 'weshalb', 'dieser', 'die', 'nennung', 'seines', 'namens', 'als', 'regisseur', 'ablehnte.', 'totten', 'selbst', 'lehnte', 'aber', 'ebenfalls', 'ab.', 'als', 'lösung', 'wurde', '``', 'allen', 'smithee', \"''\", 'als', 'ein', 'möglichst', 'einzigartiger', 'name', 'gewählt', 'bei', 'der', 'späteren', 'variante', '``', 'alan', 'smithee', \"''\", 'war', 'das', 'anagramm', '``', 'the', 'alias', 'men', \"''\", 'vermutlich', 'kein', 'entstehungsgrund', '.', 'in', 'den', 'zeitgenössischen', 'kritiken', 'wurde', 'der', 'regisseur', 'u.', 'a.', 'von', 'roger', 'ebert', 'mit', 'den', 'worten', 'gelobt', ':', '1997', 'kam', 'die', 'parodie', '``', 'an', 'alan', 'smithee', 'film', ':', 'burn', 'hollywood', 'burn', \"''\", 'deutscher', 'titel', '``', 'fahr', 'zur', 'hölle', 'hollywood', \"''\", 'in', 'die', 'kinos', ',', 'was', 'das', 'pseudonym', 'einem', 'größeren', 'publikum', 'bekannt', 'machte', ',', 'nicht', 'zuletzt', 'weil', 'arthur', 'hiller', ',', 'der', 'eigentliche', 'regisseur', 'des', 'films', ',', 'selbst', 'seinen', 'namen', 'zurückzog', 'und', 'analog', 'zum', 'filmtitel', 'das', 'pseudonym', '``', 'alan', 'smithee', \"''\", 'benutzte.', 'der', 'film', 'gilt', 'als', 'einer', 'der', 'schlechtesten', 'filme', 'der', '1990er', 'jahre', 'und', 'gewann', 'fünf', 'goldene', 'himbeeren.', 'der', 'film', '``', 'supernova', \"''\", 'ist', 'der', 'erste', 'post-smithee-film', ',', 'dort', 'führte', 'ein', 'gewisser', '``', 'thomas', 'lee', \"''\", 'alias', 'walter', 'hill', 'die', 'regie.', 'die', 'verwendung', 'dieses', 'oder', 'eines', 'anderen', 'pseudonyms', 'ist', 'für', 'mitglieder', 'der', 'dga', 'streng', 'reglementiert.', 'ein', 'regisseur', ',', 'der', 'für', 'einen', 'von', 'ihm', 'gedrehten', 'film', 'seinen', 'namen', 'nicht', 'hergeben', 'möchte', ',', 'hat', 'nach', 'sichtung', 'des', 'fertigen', 'films', 'drei', 'tage', 'zeit', ',', 'anzuzeigen', ',', 'dass', 'er', 'ein', 'pseudonym', 'verwenden', 'möchte.', 'der', 'rat', 'der', 'dga', 'entscheidet', 'binnen', 'zwei', 'tagen', 'über', 'das', 'anliegen.', 'erhebt', 'die', 'produktionsfirma', 'einspruch', ',', 'entscheidet', 'ein', 'komitee', 'aus', 'mitgliedern', 'der', 'dga', 'und', 'der', 'vereinigung', 'der', 'film-', 'und', 'fernsehproduzenten', ',', 'ob', 'der', 'regisseur', 'ein', 'pseudonym', 'angeben', 'darf.', 'über', 'die', 'beantragung', 'muss', 'der', 'regisseur', 'stillschweigen', 'halten', ',', 'ebenso', 'darf', 'er', 'den', 'fertigen', 'film', 'nicht', 'öffentlich', 'kritisieren', ',', 'wenn', 'die', 'dga', 'ihm', 'die', 'verwendung', 'eines', 'pseudonyms', 'zugesteht.', 'ein', 'antrag', 'des', 'regisseurs', 'auf', 'pseudonymisierung', 'kann', 'abgelehnt', 'werden', ',', 'so', 'durfte', 'tony', 'kaye', 'den', 'namen', 'smithee', 'bei', 'dem', 'film', '``', 'american', 'history', 'x', \"''\", 'nicht', 'einsetzen', ',', 'obwohl', 'er', 'den', 'antrag', 'stellte.', 'auch', 'bei', 'nicht-us-amerikanischen', 'produktionen', 'wird', 'der', 'name', 'verwendet', ',', 'wie', 'etwa', 'beim', 'pilotfilm', 'der', 'fernsehserie', '``', 'schulmädchen', \"''\", '.', '2007', 'sendete', 'die', 'ard', 'am', '8.', 'und', '9.', 'august', 'den', 'zweiteiligen', 'tv-film', '``', 'paparazzo', \"''\", '.', 'auch', 'in', 'diesem', 'werk', 'erscheint', 'anstatt', 'des', 'eigentlichen', 'regisseurs', 'stephan', 'wagner', 'alan', 'smithee', 'im', 'abspann.', 'regisseure', ',', 'die', 'das', 'pseudonym', 'benutzt', 'haben', ':', 'der', 'pilotfilm', 'der', 'serie', '``', 'macgyver', \"''\", 'und', 'die', 'fünfte', 'folge', 'der', 'ersten', 'staffel', 'führen', 'einen', 'alan', 'smithee', 'als', 'regisseur.', 'auf', 'der', 'tv-serien-seite', '``', 'tv', 'rage', \"''\", 'wird', 'jerrold', 'freedman', 'als', 'regisseur', 'des', 'pilotfilms', 'angegeben.', 'der', 'regisseur', 'der', 'fünften', 'folge', 'ist', 'unbekannt.', 'zu', 'den', 'drehbuchautoren', ',', 'die', 'das', 'pseudonym', 'benutzt', 'haben', ',', 'gehören', 'sam', 'raimi', 'und', 'ivan', 'raimi', ',', 'die', 'das', 'drehbuch', 'zu', '``', 'die', 'total', 'beknackte', 'nuß', \"''\", 'als', '``', 'alan', 'smithee', ',', 'jr.', \"''\", 'und', '``', 'alan', 'smithee', ',', 'sr.', \"''\", 'schrieben.', 'auch', 'in', 'computerspielen', 'wird', 'dieses', 'pseudonym', 'angegeben', ':', 'im', 'abspann', 'des', 'ego-shooters', '``', 'marine', 'sharpshooter', 'iv', \"''\", 'aus', 'dem', 'jahr', '2008', 'wird', 'als', 'art', 'director', 'des', 'spiels', '``', 'alan', 'smithee', \"''\", 'genannt.', '2014', 'produzierte', 'die', 'new', 'yorker', 'performance-kompanie', 'big', 'dance', 'theater', '``', 'alan', 'smithee', 'directed', 'this', 'play', \"''\", ',', 'das', 'im', 'august', 'des', 'jahres', 'auch', 'in', 'berlin', 'bei', 'tanz', 'im', 'august', 'aufgeführt', 'wurde', '.']\n"
     ]
    }
   ],
   "source": [
    "p = m1 ** s\n",
    "tkns = next(p)\n",
    "\n",
    "print( tkns )"
   ]
  },
  {
   "cell_type": "markdown",
   "metadata": {},
   "source": [
    "With the same results as before, the preprocessing pipeline **`p`** can be implemented as follows: "
   ]
  },
  {
   "cell_type": "code",
   "execution_count": null,
   "metadata": {
    "pycharm": {
     "name": "#%%\n"
    }
   },
   "outputs": [],
   "source": [
    "p = nlp.Lower() ** nlp.TokenizeText() ** s\n",
    "tkns = next(p)\n",
    "print( tkns )"
   ]
  },
  {
   "cell_type": "markdown",
   "metadata": {
    "pycharm": {
     "name": "#%% md\n"
    }
   },
   "source": [
    "The former structure applies a modifier **` m1= lc * t`** to the elements of the stream **`s`**. In the later structure, the  application of **`nlp.TokenizeText()`** to the elements of **`s`** results in a **new stream**. The pipeline p is re-obtained by appling the modifier **`nlp.Lower()`** to the items of the stream **`nlp.TokenizeText() ** s`**."
   ]
  }
 ],
 "metadata": {
  "kernelspec": {
   "display_name": "Python 3",
   "language": "python",
   "name": "python3"
  },
  "language_info": {
   "codemirror_mode": {
    "name": "ipython",
    "version": 3
   },
   "file_extension": ".py",
   "mimetype": "text/x-python",
   "name": "python",
   "nbconvert_exporter": "python",
   "pygments_lexer": "ipython3",
   "version": "3.7.6"
  }
 },
 "nbformat": 4,
 "nbformat_minor": 2
}