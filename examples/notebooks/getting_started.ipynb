{
 "cells": [
  {
   "cell_type": "markdown",
   "metadata": {
    "pycharm": {
     "name": "#%% md\n"
    }
   },
   "source": [
    "# Tutorial: Create your own NLP Pipeline"
   ]
  },
  {
   "cell_type": "markdown",
   "metadata": {},
   "source": [
    "For the following tutorial, the file ``dewiki_simple_one_line.txt`` (see folder: [../sample_data/](../sample_data) ) will be used as a source for input text data. This file contains one text per line and is generated via Consileon NLP Framework (the code is provided in python notebook convert_wiki_simple.ipynb). Each text is extracted from a German Wikipedia article and line breaks are eliminated such that texts are represented as one-line-texts or \"Whole sentences\". This allows for an easier access to textual data. Other than that the texts are not processed any further to show some real NLP-tasks.  \n",
    "\n",
    "(See [./convert_wiki_simple.ipynb](convert_wiki_simple.ipynb) for details.)"
   ]
  },
  {
   "cell_type": "markdown",
   "metadata": {
    "pycharm": {
     "name": "#%% md\n"
    }
   },
   "source": [
    "Now let's get started! First we will import necessary packages:"
   ]
  },
  {
   "cell_type": "code",
   "execution_count": 10,
   "metadata": {
    "pycharm": {
     "name": "#%%\n"
    }
   },
   "outputs": [],
   "source": [
    "import consileon.nlp.pipeline as nlp"
   ]
  },
  {
   "cell_type": "markdown",
   "metadata": {
    "pycharm": {
     "name": "#%% md\n"
    }
   },
   "source": [
    "### Generation of an input stream:\n",
    "Here we create an input stream **``s``** from a text file.\n",
    "\n",
    "Within the Consileon NLP Framework, a \"stream\" is a _Python iterator_\n",
    "that will provide a text or other object for each iteration."
   ]
  },
  {
   "cell_type": "code",
   "execution_count": 2,
   "metadata": {
    "pycharm": {
     "name": "#%%\n"
    }
   },
   "outputs": [],
   "source": [
    "s = nlp.LineSourceIterator(\"../sample_data/dewiki_simple_one_line.txt\")"
   ]
  },
  {
   "cell_type": "markdown",
   "metadata": {
    "pycharm": {
     "name": "#%% md\n"
    }
   },
   "source": [
    "Get the first text provided by the input stream using the function **`next()`**. <br>\n",
    "Notice that each time this function is called the next text in the sequence will be given as an output.\n",
    "\n",
    "Try it out by running the following cell several times."
   ]
  },
  {
   "cell_type": "code",
   "execution_count": 3,
   "metadata": {
    "pycharm": {
     "name": "#%%\n"
    }
   },
   "outputs": [
    {
     "name": "stdout",
     "output_type": "stream",
     "text": [
      "Alternative Schreibweisen sind unter anderem die Ursprungsvariante ''Allen Smithee'' sowie ''Alan Smythee'' und ''Adam Smithee''. Auch zwei teilweise asiatisch anmutende Schreibweisen ''Alan Smi Thee'' und ''Sumishii Aran'' gehören – so die Internet Movie Database – dazu. Das Pseudonym entstand 1968 infolge der Arbeiten am Western-Film ''Death of a Gunfighter'' (deutscher Titel ''Frank Patch – Deine Stunden sind gezählt''). Regisseur Robert Totten und Hauptdarsteller Richard Widmark gerieten in einen Streit, woraufhin Don Siegel als neuer Regisseur eingesetzt wurde. Der Film trug nach Abschluss der Arbeiten noch deutlich Tottens Handschrift, der auch mehr Drehtage als Siegel daran gearbeitet hatte, weshalb dieser die Nennung seines Namens als Regisseur ablehnte. Totten selbst lehnte aber ebenfalls ab. Als Lösung wurde  ''Allen Smithee'' als ein möglichst einzigartiger Name gewählt (bei der späteren Variante ''Alan Smithee'' war das Anagramm ''The Alias Men'' vermutlich kein Entstehungsgrund). In den zeitgenössischen Kritiken wurde der Regisseur u. a. von Roger Ebert mit den Worten gelobt: 1997 kam die Parodie ''An Alan Smithee Film: Burn Hollywood Burn'' (deutscher Titel ''Fahr zur Hölle Hollywood'') in die Kinos, was das Pseudonym einem größeren Publikum bekannt machte, nicht zuletzt weil Arthur Hiller, der eigentliche Regisseur des Films, selbst seinen Namen zurückzog und analog zum Filmtitel das Pseudonym ''Alan Smithee'' benutzte. Der Film gilt als einer der schlechtesten Filme der 1990er Jahre und gewann fünf Goldene Himbeeren. Der Film ''Supernova'' ist der erste Post-Smithee-Film, dort führte ein gewisser ''Thomas Lee'' alias Walter Hill die Regie. Die Verwendung dieses oder eines anderen Pseudonyms ist für Mitglieder der DGA streng reglementiert. Ein Regisseur, der für einen von ihm gedrehten Film seinen Namen nicht hergeben möchte, hat nach Sichtung des fertigen Films drei Tage Zeit, anzuzeigen, dass er ein Pseudonym verwenden möchte. Der Rat der DGA entscheidet binnen zwei Tagen über das Anliegen. Erhebt die Produktionsfirma Einspruch, entscheidet ein Komitee aus Mitgliedern der DGA und der Vereinigung der Film- und Fernsehproduzenten, ob der Regisseur ein Pseudonym angeben darf. Über die Beantragung muss der Regisseur Stillschweigen halten, ebenso darf er den fertigen Film nicht öffentlich kritisieren, wenn die DGA ihm die Verwendung eines Pseudonyms zugesteht. Ein Antrag des Regisseurs auf Pseudonymisierung kann abgelehnt werden, so durfte Tony Kaye den Namen Smithee bei dem Film ''American History X'' nicht einsetzen, obwohl er den Antrag stellte. Auch bei nicht-US-amerikanischen Produktionen wird der Name verwendet, wie etwa beim Pilotfilm der Fernsehserie ''Schulmädchen''. 2007 sendete die ARD am 8. und 9. August den zweiteiligen TV-Film ''Paparazzo''. Auch in diesem Werk erscheint anstatt des eigentlichen Regisseurs Stephan Wagner Alan Smithee im Abspann. Regisseure, die das Pseudonym benutzt haben: Der Pilotfilm der Serie ''MacGyver'' und die fünfte Folge der ersten Staffel führen einen Alan Smithee als Regisseur. Auf der TV-Serien-Seite ''TV Rage'' wird Jerrold Freedman als Regisseur des Pilotfilms angegeben. Der Regisseur der fünften Folge ist unbekannt. Zu den Drehbuchautoren, die das Pseudonym benutzt haben, gehören Sam Raimi und Ivan Raimi, die das Drehbuch zu ''Die total beknackte Nuß'' als ''Alan Smithee, Jr.'' und ''Alan Smithee, Sr.'' schrieben. Auch in Computerspielen wird dieses Pseudonym angegeben: Im Abspann des Ego-Shooters ''Marine Sharpshooter IV'' aus dem Jahr 2008 wird als Art Director des Spiels ''Alan Smithee'' genannt. 2014 produzierte die New Yorker Performance-Kompanie Big Dance Theater ''Alan Smithee Directed this Play'', das im August des Jahres auch in Berlin bei Tanz im August aufgeführt wurde.\n",
      "\n"
     ]
    }
   ],
   "source": [
    "text = next(s)\n",
    "print(text)"
   ]
  },
  {
   "cell_type": "markdown",
   "source": [
    "To _reset_ the stream (i.e. to start it from the beginning) you have to call"
   ],
   "metadata": {
    "collapsed": false
   }
  },
  {
   "cell_type": "code",
   "execution_count": null,
   "outputs": [],
   "source": [
    "s.__iter__()"
   ],
   "metadata": {
    "collapsed": false,
    "pycharm": {
     "name": "#%%\n"
    }
   }
  },
  {
   "cell_type": "markdown",
   "metadata": {
    "pycharm": {
     "name": "#%% md\n"
    }
   },
   "source": [
    "### Tokenization, Lemmatization and Lower-casing:"
   ]
  },
  {
   "cell_type": "markdown",
   "metadata": {},
   "source": [
    "In order for NLP-algorithms to process textual data, text elements need to be represented as tokens.\n",
    "This pre-processing step is called tokenization. <br>\n",
    "In the following code we create a tokenizer **`t`** with the help of the function **`TokenizeText()`**\n",
    "and apply it on a string example **`sample_text`** to see what this pre-processing step is all about:"
   ]
  },
  {
   "cell_type": "code",
   "execution_count": 4,
   "metadata": {},
   "outputs": [
    {
     "name": "stdout",
     "output_type": "stream",
     "text": [
      "['Der', 'Frühling', 'läßt', 'sein', 'blaues', 'Band', 'wieder', 'flattern', 'durch', 'die', 'Lüfte.', 'Süße', ',', 'wohlbekannte', 'Düfte', 'streifen', 'ahnungsvoll', 'das', 'Land', '.']\n"
     ]
    }
   ],
   "source": [
    "t = nlp.TokenizeText()\n",
    "sample_text = \"Der Frühling läßt sein blaues Band wieder flattern durch die Lüfte. Süße, wohlbekannte Düfte streifen ahnungsvoll das Land.\"\n",
    "\n",
    "print( t(sample_text) )"
   ]
  },
  {
   "cell_type": "markdown",
   "metadata": {},
   "source": [
    "Notice that each interpunctation character (as a text element) leads to a single token.\n",
    "\n",
    "In languages that frequently use conjugation and declination (e.g. German) it's often necessary to reduce\n",
    "the number of different tokens via _lemmatization_. Lemmatization reduces words to their _basic/dictionary form_,\n",
    "e.g. \"Lüfte\" to \"Luft\" or \"written\" to \"write\".\n",
    "\n",
    "In comparison with Tokenization, lemmatization depends on the natural language.\n",
    "For Consileon the default language (currently) is German."
   ]
  },
  {
   "cell_type": "markdown",
   "metadata": {},
   "source": [
    "To apply tokenization and lemmatization at once we use the function **`LemmaTokenizeText()`**:"
   ]
  },
  {
   "cell_type": "code",
   "execution_count": 5,
   "metadata": {},
   "outputs": [
    {
     "name": "stdout",
     "output_type": "stream",
     "text": [
      "['der', 'Frühling', 'lassen', 'mein', 'blau', 'Band', 'wieder', 'flattern', 'durch', 'der', 'Luft', '.', 'süßen', ',', 'wohlbekannte', 'Duft', 'streifen', 'ahnungsvoll', 'der', 'Land', '.']\n"
     ]
    }
   ],
   "source": [
    "l = nlp.LemmaTokenizeText()\n",
    "\n",
    "print( l(sample_text) )"
   ]
  },
  {
   "cell_type": "markdown",
   "metadata": {},
   "source": [
    "As seen above, lemmatization is not perfect, esp. not context sensitive.\n",
    "<br>\n",
    "Tokenizers and lemmatizers are examples of _modifiers_.\n",
    "Modifiers take one input object and transform it into an output object that may differ in its type from the former. In the case seen above, the input object is of type string and the output object if of type list."
   ]
  },
  {
   "cell_type": "markdown",
   "metadata": {
    "pycharm": {
     "name": "#%% md\n"
    }
   },
   "source": [
    "Another modifier is **`Lower()`** which transforms the tokens within a list to lower case:"
   ]
  },
  {
   "cell_type": "code",
   "execution_count": 6,
   "metadata": {
    "pycharm": {
     "name": "#%%\n"
    }
   },
   "outputs": [
    {
     "data": {
      "text/plain": "['hallo welt']"
     },
     "execution_count": 6,
     "metadata": {},
     "output_type": "execute_result"
    }
   ],
   "source": [
    "lc = nlp.Lower()\n",
    "\n",
    "lc([\"Hallo Welt\"])"
   ]
  },
  {
   "cell_type": "markdown",
   "metadata": {
    "pycharm": {
     "name": "#%% md\n"
    }
   },
   "source": [
    "### Composition of multiple modifiers via the operator * :"
   ]
  },
  {
   "cell_type": "markdown",
   "metadata": {
    "pycharm": {
     "name": "#%% md\n"
    }
   },
   "source": [
    "Modifiers can be composed (as in mathematics) using the operator `*` . In the following code, the tokenizer **`t`** and the modifier **`lc`** are composed and applied to the string **`sample_text`** :"
   ]
  },
  {
   "cell_type": "code",
   "execution_count": 7,
   "metadata": {
    "pycharm": {
     "name": "#%%\n"
    }
   },
   "outputs": [
    {
     "name": "stdout",
     "output_type": "stream",
     "text": [
      "['der', 'frühling', 'läßt', 'sein', 'blaues', 'band', 'wieder', 'flattern', 'durch', 'die', 'lüfte.', 'süße', ',', 'wohlbekannte', 'düfte', 'streifen', 'ahnungsvoll', 'das', 'land', '.'] ['der', 'frühling', 'läßt', 'sein', 'blaues', 'band', 'wieder', 'flattern', 'durch', 'die', 'lüfte.', 'süße', ',', 'wohlbekannte', 'düfte', 'streifen', 'ahnungsvoll', 'das', 'land', '.'] ['der', 'ball', 'sein', 'rund', '.']\n"
     ]
    }
   ],
   "source": [
    "m1 = lc * t\n",
    "print( m1(sample_text), (lc * t)(sample_text), (lc * nlp.LemmaTokenizeText())(\"Der Ball ist rund.\") )"
   ]
  },
  {
   "cell_type": "markdown",
   "metadata": {
    "pycharm": {
     "name": "#%% md\n"
    }
   },
   "source": [
    "One very important feature of modifiers is that they can easily be applied element wise to an input stream. In that way, you are able to create a textual-preprocessing pipeline in which you insert the input texts iteratively. This is done using the operator `**` . Now Let's see how the modifier-composition **`m1`** will handle the input stream **`s`**:"
   ]
  },
  {
   "cell_type": "code",
   "execution_count": 8,
   "metadata": {},
   "outputs": [
    {
     "name": "stdout",
     "output_type": "stream",
     "text": [
      "['alternative', 'schreibweisen', 'sind', 'unter', 'anderem', 'die', 'ursprungsvariante', '``', 'allen', 'smithee', \"''\", 'sowie', '``', 'alan', 'smythee', \"''\", 'und', '``', 'adam', 'smithee', \"''\", '.', 'auch', 'zwei', 'teilweise', 'asiatisch', 'anmutende', 'schreibweisen', '``', 'alan', 'smi', 'thee', \"''\", 'und', '``', 'sumishii', 'aran', \"''\", 'gehören', '–', 'so', 'die', 'internet', 'movie', 'database', '–', 'dazu.', 'das', 'pseudonym', 'entstand', '1968', 'infolge', 'der', 'arbeiten', 'am', 'western-film', '``', 'death', 'of', 'a', 'gunfighter', \"''\", 'deutscher', 'titel', '``', 'frank', 'patch', '–', 'deine', 'stunden', 'sind', 'gezählt', \"''\", '.', 'regisseur', 'robert', 'totten', 'und', 'hauptdarsteller', 'richard', 'widmark', 'gerieten', 'in', 'einen', 'streit', ',', 'woraufhin', 'don', 'siegel', 'als', 'neuer', 'regisseur', 'eingesetzt', 'wurde.', 'der', 'film', 'trug', 'nach', 'abschluss', 'der', 'arbeiten', 'noch', 'deutlich', 'tottens', 'handschrift', ',', 'der', 'auch', 'mehr', 'drehtage', 'als', 'siegel', 'daran', 'gearbeitet', 'hatte', ',', 'weshalb', 'dieser', 'die', 'nennung', 'seines', 'namens', 'als', 'regisseur', 'ablehnte.', 'totten', 'selbst', 'lehnte', 'aber', 'ebenfalls', 'ab.', 'als', 'lösung', 'wurde', '``', 'allen', 'smithee', \"''\", 'als', 'ein', 'möglichst', 'einzigartiger', 'name', 'gewählt', 'bei', 'der', 'späteren', 'variante', '``', 'alan', 'smithee', \"''\", 'war', 'das', 'anagramm', '``', 'the', 'alias', 'men', \"''\", 'vermutlich', 'kein', 'entstehungsgrund', '.', 'in', 'den', 'zeitgenössischen', 'kritiken', 'wurde', 'der', 'regisseur', 'u.', 'a.', 'von', 'roger', 'ebert', 'mit', 'den', 'worten', 'gelobt', ':', '1997', 'kam', 'die', 'parodie', '``', 'an', 'alan', 'smithee', 'film', ':', 'burn', 'hollywood', 'burn', \"''\", 'deutscher', 'titel', '``', 'fahr', 'zur', 'hölle', 'hollywood', \"''\", 'in', 'die', 'kinos', ',', 'was', 'das', 'pseudonym', 'einem', 'größeren', 'publikum', 'bekannt', 'machte', ',', 'nicht', 'zuletzt', 'weil', 'arthur', 'hiller', ',', 'der', 'eigentliche', 'regisseur', 'des', 'films', ',', 'selbst', 'seinen', 'namen', 'zurückzog', 'und', 'analog', 'zum', 'filmtitel', 'das', 'pseudonym', '``', 'alan', 'smithee', \"''\", 'benutzte.', 'der', 'film', 'gilt', 'als', 'einer', 'der', 'schlechtesten', 'filme', 'der', '1990er', 'jahre', 'und', 'gewann', 'fünf', 'goldene', 'himbeeren.', 'der', 'film', '``', 'supernova', \"''\", 'ist', 'der', 'erste', 'post-smithee-film', ',', 'dort', 'führte', 'ein', 'gewisser', '``', 'thomas', 'lee', \"''\", 'alias', 'walter', 'hill', 'die', 'regie.', 'die', 'verwendung', 'dieses', 'oder', 'eines', 'anderen', 'pseudonyms', 'ist', 'für', 'mitglieder', 'der', 'dga', 'streng', 'reglementiert.', 'ein', 'regisseur', ',', 'der', 'für', 'einen', 'von', 'ihm', 'gedrehten', 'film', 'seinen', 'namen', 'nicht', 'hergeben', 'möchte', ',', 'hat', 'nach', 'sichtung', 'des', 'fertigen', 'films', 'drei', 'tage', 'zeit', ',', 'anzuzeigen', ',', 'dass', 'er', 'ein', 'pseudonym', 'verwenden', 'möchte.', 'der', 'rat', 'der', 'dga', 'entscheidet', 'binnen', 'zwei', 'tagen', 'über', 'das', 'anliegen.', 'erhebt', 'die', 'produktionsfirma', 'einspruch', ',', 'entscheidet', 'ein', 'komitee', 'aus', 'mitgliedern', 'der', 'dga', 'und', 'der', 'vereinigung', 'der', 'film-', 'und', 'fernsehproduzenten', ',', 'ob', 'der', 'regisseur', 'ein', 'pseudonym', 'angeben', 'darf.', 'über', 'die', 'beantragung', 'muss', 'der', 'regisseur', 'stillschweigen', 'halten', ',', 'ebenso', 'darf', 'er', 'den', 'fertigen', 'film', 'nicht', 'öffentlich', 'kritisieren', ',', 'wenn', 'die', 'dga', 'ihm', 'die', 'verwendung', 'eines', 'pseudonyms', 'zugesteht.', 'ein', 'antrag', 'des', 'regisseurs', 'auf', 'pseudonymisierung', 'kann', 'abgelehnt', 'werden', ',', 'so', 'durfte', 'tony', 'kaye', 'den', 'namen', 'smithee', 'bei', 'dem', 'film', '``', 'american', 'history', 'x', \"''\", 'nicht', 'einsetzen', ',', 'obwohl', 'er', 'den', 'antrag', 'stellte.', 'auch', 'bei', 'nicht-us-amerikanischen', 'produktionen', 'wird', 'der', 'name', 'verwendet', ',', 'wie', 'etwa', 'beim', 'pilotfilm', 'der', 'fernsehserie', '``', 'schulmädchen', \"''\", '.', '2007', 'sendete', 'die', 'ard', 'am', '8.', 'und', '9.', 'august', 'den', 'zweiteiligen', 'tv-film', '``', 'paparazzo', \"''\", '.', 'auch', 'in', 'diesem', 'werk', 'erscheint', 'anstatt', 'des', 'eigentlichen', 'regisseurs', 'stephan', 'wagner', 'alan', 'smithee', 'im', 'abspann.', 'regisseure', ',', 'die', 'das', 'pseudonym', 'benutzt', 'haben', ':', 'der', 'pilotfilm', 'der', 'serie', '``', 'macgyver', \"''\", 'und', 'die', 'fünfte', 'folge', 'der', 'ersten', 'staffel', 'führen', 'einen', 'alan', 'smithee', 'als', 'regisseur.', 'auf', 'der', 'tv-serien-seite', '``', 'tv', 'rage', \"''\", 'wird', 'jerrold', 'freedman', 'als', 'regisseur', 'des', 'pilotfilms', 'angegeben.', 'der', 'regisseur', 'der', 'fünften', 'folge', 'ist', 'unbekannt.', 'zu', 'den', 'drehbuchautoren', ',', 'die', 'das', 'pseudonym', 'benutzt', 'haben', ',', 'gehören', 'sam', 'raimi', 'und', 'ivan', 'raimi', ',', 'die', 'das', 'drehbuch', 'zu', '``', 'die', 'total', 'beknackte', 'nuß', \"''\", 'als', '``', 'alan', 'smithee', ',', 'jr.', \"''\", 'und', '``', 'alan', 'smithee', ',', 'sr.', \"''\", 'schrieben.', 'auch', 'in', 'computerspielen', 'wird', 'dieses', 'pseudonym', 'angegeben', ':', 'im', 'abspann', 'des', 'ego-shooters', '``', 'marine', 'sharpshooter', 'iv', \"''\", 'aus', 'dem', 'jahr', '2008', 'wird', 'als', 'art', 'director', 'des', 'spiels', '``', 'alan', 'smithee', \"''\", 'genannt.', '2014', 'produzierte', 'die', 'new', 'yorker', 'performance-kompanie', 'big', 'dance', 'theater', '``', 'alan', 'smithee', 'directed', 'this', 'play', \"''\", ',', 'das', 'im', 'august', 'des', 'jahres', 'auch', 'in', 'berlin', 'bei', 'tanz', 'im', 'august', 'aufgeführt', 'wurde', '.']\n"
     ]
    }
   ],
   "source": [
    "p = m1 ** s\n",
    "tkns = next(p)\n",
    "\n",
    "print( tkns )"
   ]
  },
  {
   "cell_type": "markdown",
   "metadata": {},
   "source": [
    "With the same results as before, the preprocessing pipeline **`p`** can be implemented as follows: "
   ]
  },
  {
   "cell_type": "code",
   "execution_count": 9,
   "metadata": {
    "pycharm": {
     "name": "#%%\n"
    }
   },
   "outputs": [
    {
     "name": "stdout",
     "output_type": "stream",
     "text": [
      "['alternative', 'schreibweisen', 'sind', 'unter', 'anderem', 'die', 'ursprungsvariante', '``', 'allen', 'smithee', \"''\", 'sowie', '``', 'alan', 'smythee', \"''\", 'und', '``', 'adam', 'smithee', \"''\", '.', 'auch', 'zwei', 'teilweise', 'asiatisch', 'anmutende', 'schreibweisen', '``', 'alan', 'smi', 'thee', \"''\", 'und', '``', 'sumishii', 'aran', \"''\", 'gehören', '–', 'so', 'die', 'internet', 'movie', 'database', '–', 'dazu.', 'das', 'pseudonym', 'entstand', '1968', 'infolge', 'der', 'arbeiten', 'am', 'western-film', '``', 'death', 'of', 'a', 'gunfighter', \"''\", 'deutscher', 'titel', '``', 'frank', 'patch', '–', 'deine', 'stunden', 'sind', 'gezählt', \"''\", '.', 'regisseur', 'robert', 'totten', 'und', 'hauptdarsteller', 'richard', 'widmark', 'gerieten', 'in', 'einen', 'streit', ',', 'woraufhin', 'don', 'siegel', 'als', 'neuer', 'regisseur', 'eingesetzt', 'wurde.', 'der', 'film', 'trug', 'nach', 'abschluss', 'der', 'arbeiten', 'noch', 'deutlich', 'tottens', 'handschrift', ',', 'der', 'auch', 'mehr', 'drehtage', 'als', 'siegel', 'daran', 'gearbeitet', 'hatte', ',', 'weshalb', 'dieser', 'die', 'nennung', 'seines', 'namens', 'als', 'regisseur', 'ablehnte.', 'totten', 'selbst', 'lehnte', 'aber', 'ebenfalls', 'ab.', 'als', 'lösung', 'wurde', '``', 'allen', 'smithee', \"''\", 'als', 'ein', 'möglichst', 'einzigartiger', 'name', 'gewählt', 'bei', 'der', 'späteren', 'variante', '``', 'alan', 'smithee', \"''\", 'war', 'das', 'anagramm', '``', 'the', 'alias', 'men', \"''\", 'vermutlich', 'kein', 'entstehungsgrund', '.', 'in', 'den', 'zeitgenössischen', 'kritiken', 'wurde', 'der', 'regisseur', 'u.', 'a.', 'von', 'roger', 'ebert', 'mit', 'den', 'worten', 'gelobt', ':', '1997', 'kam', 'die', 'parodie', '``', 'an', 'alan', 'smithee', 'film', ':', 'burn', 'hollywood', 'burn', \"''\", 'deutscher', 'titel', '``', 'fahr', 'zur', 'hölle', 'hollywood', \"''\", 'in', 'die', 'kinos', ',', 'was', 'das', 'pseudonym', 'einem', 'größeren', 'publikum', 'bekannt', 'machte', ',', 'nicht', 'zuletzt', 'weil', 'arthur', 'hiller', ',', 'der', 'eigentliche', 'regisseur', 'des', 'films', ',', 'selbst', 'seinen', 'namen', 'zurückzog', 'und', 'analog', 'zum', 'filmtitel', 'das', 'pseudonym', '``', 'alan', 'smithee', \"''\", 'benutzte.', 'der', 'film', 'gilt', 'als', 'einer', 'der', 'schlechtesten', 'filme', 'der', '1990er', 'jahre', 'und', 'gewann', 'fünf', 'goldene', 'himbeeren.', 'der', 'film', '``', 'supernova', \"''\", 'ist', 'der', 'erste', 'post-smithee-film', ',', 'dort', 'führte', 'ein', 'gewisser', '``', 'thomas', 'lee', \"''\", 'alias', 'walter', 'hill', 'die', 'regie.', 'die', 'verwendung', 'dieses', 'oder', 'eines', 'anderen', 'pseudonyms', 'ist', 'für', 'mitglieder', 'der', 'dga', 'streng', 'reglementiert.', 'ein', 'regisseur', ',', 'der', 'für', 'einen', 'von', 'ihm', 'gedrehten', 'film', 'seinen', 'namen', 'nicht', 'hergeben', 'möchte', ',', 'hat', 'nach', 'sichtung', 'des', 'fertigen', 'films', 'drei', 'tage', 'zeit', ',', 'anzuzeigen', ',', 'dass', 'er', 'ein', 'pseudonym', 'verwenden', 'möchte.', 'der', 'rat', 'der', 'dga', 'entscheidet', 'binnen', 'zwei', 'tagen', 'über', 'das', 'anliegen.', 'erhebt', 'die', 'produktionsfirma', 'einspruch', ',', 'entscheidet', 'ein', 'komitee', 'aus', 'mitgliedern', 'der', 'dga', 'und', 'der', 'vereinigung', 'der', 'film-', 'und', 'fernsehproduzenten', ',', 'ob', 'der', 'regisseur', 'ein', 'pseudonym', 'angeben', 'darf.', 'über', 'die', 'beantragung', 'muss', 'der', 'regisseur', 'stillschweigen', 'halten', ',', 'ebenso', 'darf', 'er', 'den', 'fertigen', 'film', 'nicht', 'öffentlich', 'kritisieren', ',', 'wenn', 'die', 'dga', 'ihm', 'die', 'verwendung', 'eines', 'pseudonyms', 'zugesteht.', 'ein', 'antrag', 'des', 'regisseurs', 'auf', 'pseudonymisierung', 'kann', 'abgelehnt', 'werden', ',', 'so', 'durfte', 'tony', 'kaye', 'den', 'namen', 'smithee', 'bei', 'dem', 'film', '``', 'american', 'history', 'x', \"''\", 'nicht', 'einsetzen', ',', 'obwohl', 'er', 'den', 'antrag', 'stellte.', 'auch', 'bei', 'nicht-us-amerikanischen', 'produktionen', 'wird', 'der', 'name', 'verwendet', ',', 'wie', 'etwa', 'beim', 'pilotfilm', 'der', 'fernsehserie', '``', 'schulmädchen', \"''\", '.', '2007', 'sendete', 'die', 'ard', 'am', '8.', 'und', '9.', 'august', 'den', 'zweiteiligen', 'tv-film', '``', 'paparazzo', \"''\", '.', 'auch', 'in', 'diesem', 'werk', 'erscheint', 'anstatt', 'des', 'eigentlichen', 'regisseurs', 'stephan', 'wagner', 'alan', 'smithee', 'im', 'abspann.', 'regisseure', ',', 'die', 'das', 'pseudonym', 'benutzt', 'haben', ':', 'der', 'pilotfilm', 'der', 'serie', '``', 'macgyver', \"''\", 'und', 'die', 'fünfte', 'folge', 'der', 'ersten', 'staffel', 'führen', 'einen', 'alan', 'smithee', 'als', 'regisseur.', 'auf', 'der', 'tv-serien-seite', '``', 'tv', 'rage', \"''\", 'wird', 'jerrold', 'freedman', 'als', 'regisseur', 'des', 'pilotfilms', 'angegeben.', 'der', 'regisseur', 'der', 'fünften', 'folge', 'ist', 'unbekannt.', 'zu', 'den', 'drehbuchautoren', ',', 'die', 'das', 'pseudonym', 'benutzt', 'haben', ',', 'gehören', 'sam', 'raimi', 'und', 'ivan', 'raimi', ',', 'die', 'das', 'drehbuch', 'zu', '``', 'die', 'total', 'beknackte', 'nuß', \"''\", 'als', '``', 'alan', 'smithee', ',', 'jr.', \"''\", 'und', '``', 'alan', 'smithee', ',', 'sr.', \"''\", 'schrieben.', 'auch', 'in', 'computerspielen', 'wird', 'dieses', 'pseudonym', 'angegeben', ':', 'im', 'abspann', 'des', 'ego-shooters', '``', 'marine', 'sharpshooter', 'iv', \"''\", 'aus', 'dem', 'jahr', '2008', 'wird', 'als', 'art', 'director', 'des', 'spiels', '``', 'alan', 'smithee', \"''\", 'genannt.', '2014', 'produzierte', 'die', 'new', 'yorker', 'performance-kompanie', 'big', 'dance', 'theater', '``', 'alan', 'smithee', 'directed', 'this', 'play', \"''\", ',', 'das', 'im', 'august', 'des', 'jahres', 'auch', 'in', 'berlin', 'bei', 'tanz', 'im', 'august', 'aufgeführt', 'wurde', '.']\n"
     ]
    }
   ],
   "source": [
    "p = nlp.Lower() ** nlp.TokenizeText() ** s\n",
    "tkns = next(p)\n",
    "print( tkns )"
   ]
  },
  {
   "cell_type": "markdown",
   "metadata": {
    "pycharm": {
     "name": "#%% md\n"
    }
   },
   "source": [
    "The former structure applies a modifier **` m1= lc * t`** to the elements of the stream **`s`**.\n",
    "In the later structure, the  application of **`nlp.TokenizeText()`** to the elements of **`s`** results in a **new stream**. The pipeline p is re-obtained by appling the modifier **`nlp.Lower()`** to the items of the stream **`nlp.TokenizeText() ** s`**.\n"
   ]
  }
 ],
 "metadata": {
  "kernelspec": {
   "display_name": "Python 3",
   "language": "python",
   "name": "python3"
  },
  "language_info": {
   "codemirror_mode": {
    "name": "ipython",
    "version": 3
   },
   "file_extension": ".py",
   "mimetype": "text/x-python",
   "name": "python",
   "nbconvert_exporter": "python",
   "pygments_lexer": "ipython3",
   "version": "3.7.6"
  }
 },
 "nbformat": 4,
 "nbformat_minor": 2
}