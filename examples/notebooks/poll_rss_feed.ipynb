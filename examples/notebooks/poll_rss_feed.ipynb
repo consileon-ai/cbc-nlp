{
 "cells": [
  {
   "cell_type": "code",
   "execution_count": 1,
   "metadata": {
    "collapsed": true
   },
   "outputs": [],
   "source": [
    "from consileon.nlp.rss_scraping import RssScraper\n",
    "from bs4 import BeautifulSoup as bs"
   ]
  },
  {
   "cell_type": "code",
   "execution_count": 2,
   "outputs": [],
   "source": [
    "base_dir = \"../sample_data/rss_feeds\""
   ],
   "metadata": {
    "collapsed": false,
    "pycharm": {
     "name": "#%%\n"
    }
   }
  },
  {
   "cell_type": "code",
   "execution_count": 4,
   "outputs": [
    {
     "name": "stdout",
     "output_type": "stream",
     "text": [
      "Creation of the directory ../sample_data/rss_feeds/rki/ failed\n"
     ]
    }
   ],
   "source": [
    "rki_urls = [\"https://www.rki.de/SiteGlobals/Functions/RSSFeed/RSSGenerator_nCoV.xml\"]\n",
    "\n",
    "\n",
    "def rki_extractor(an_html) :\n",
    "    soup = bs(an_html, \"lxml\")\n",
    "    content = soup.find('div', attrs={\"id\": \"content\"})\n",
    "    text = \"\\n\\n\".join([ p.get_text() for p in content.find_all(['p', 'h', 'h1', 'h2', 'h3', 'title']) ])\n",
    "    return text.strip()\n",
    "\n",
    "rki = RssScraper(rki_urls, base_dir + \"/rki/\", rki_extractor, 1 * 3600, True)\n",
    "\n",
    "rki.pull_once()"
   ],
   "metadata": {
    "collapsed": false,
    "pycharm": {
     "name": "#%%\n"
    }
   }
  },
  {
   "cell_type": "code",
   "execution_count": 3,
   "outputs": [
    {
     "name": "stdout",
     "output_type": "stream",
     "text": [
      "Creation of the directory ../sample_data/rss_feeds/bw/ failed\n"
     ]
    }
   ],
   "source": [
    "bw_urls = [\"https://www.baden-wuerttemberg.de/de/service/rss/xml/rss-alle-meldungen/\"]\n",
    "\n",
    "def bw_extractor(an_html) :\n",
    "    soup = bs(an_html, \"lxml\")\n",
    "    content = soup.find('div', attrs={\"data-rtr-content\": \"#read\"})\n",
    "    text = \"\\n\\n\".join([ p.get_text() for p in content.find_all(['p', 'h', 'h1', 'h2', 'h3', 'title']) ])\n",
    "    return text.strip()\n",
    "\n",
    "bw = RssScraper(bw_urls, base_dir + \"/bw/\", bw_extractor, 1 * 3600, True)\n",
    "\n",
    "bw.pull_once()"
   ],
   "metadata": {
    "collapsed": false,
    "pycharm": {
     "name": "#%%\n"
    }
   }
  }
 ],
 "metadata": {
  "kernelspec": {
   "display_name": "Python 3",
   "language": "python",
   "name": "python3"
  },
  "language_info": {
   "codemirror_mode": {
    "name": "ipython",
    "version": 2
   },
   "file_extension": ".py",
   "mimetype": "text/x-python",
   "name": "python",
   "nbconvert_exporter": "python",
   "pygments_lexer": "ipython2",
   "version": "2.7.6"
  }
 },
 "nbformat": 4,
 "nbformat_minor": 0
}